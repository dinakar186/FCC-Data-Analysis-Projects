{
  "nbformat": 4,
  "nbformat_minor": 0,
  "metadata": {
    "colab": {
      "provenance": []
    },
    "kernelspec": {
      "name": "python3",
      "display_name": "Python 3"
    },
    "language_info": {
      "name": "python"
    }
  },
  "cells": [
    {
      "cell_type": "code",
      "execution_count": 3,
      "metadata": {
        "id": "iiRJ54t23d-Y"
      },
      "outputs": [],
      "source": [
        "import numpy as np"
      ]
    },
    {
      "cell_type": "code",
      "source": [
        "%%bash\n",
        "cat > mean_var_std.py <<'PY'\n",
        "import numpy as np\n",
        "\n",
        "def calculate(list_input):\n",
        "    if len(list_input) != 9:\n",
        "        raise ValueError(\"List must contain nine numbers.\")\n",
        "\n",
        "    arr = np.array(list_input).reshape(3, 3)\n",
        "\n",
        "    calculations = {\n",
        "        'mean': [arr.mean(axis=0).tolist(), arr.mean(axis=1).tolist(), arr.mean().item()],\n",
        "        'variance': [arr.var(axis=0).tolist(), arr.var(axis=1).tolist(), arr.var().item()],\n",
        "        'standard deviation': [arr.std(axis=0).tolist(), arr.std(axis=1).tolist(), arr.std().item()],\n",
        "        'max': [arr.max(axis=0).tolist(), arr.max(axis=1).tolist(), arr.max().item()],\n",
        "        'min': [arr.min(axis=0).tolist(), arr.min(axis=1).tolist(), arr.min().item()],\n",
        "        'sum': [arr.sum(axis=0).tolist(), arr.sum(axis=1).tolist(), arr.sum().item()]\n",
        "    }\n",
        "\n",
        "    return calculations\n",
        "PY\n",
        "\n",
        "cat > main.py <<'PY'\n",
        "from mean_var_std import calculate\n",
        "\n",
        "# sample correct run\n",
        "print(\"SAMPLE:\", calculate([0,1,2,3,4,5,6,7,8]))\n",
        "\n",
        "# test ValueError\n",
        "try:\n",
        "    calculate([1,2,3])\n",
        "except Exception as e:\n",
        "    print(\"VALUE ERROR OK:\", type(e).__name__, \"-\", e)\n",
        "PY\n"
      ],
      "metadata": {
        "id": "vvVYRdPD318_"
      },
      "execution_count": 4,
      "outputs": []
    },
    {
      "cell_type": "code",
      "source": [
        "!python3 main.py\n"
      ],
      "metadata": {
        "colab": {
          "base_uri": "https://localhost:8080/"
        },
        "id": "-JoRZPnn5UKS",
        "outputId": "01024d0c-3341-488f-e7cb-d303a3bf4dc8"
      },
      "execution_count": 5,
      "outputs": [
        {
          "output_type": "stream",
          "name": "stdout",
          "text": [
            "SAMPLE: {'mean': [[3.0, 4.0, 5.0], [1.0, 4.0, 7.0], 4.0], 'variance': [[6.0, 6.0, 6.0], [0.6666666666666666, 0.6666666666666666, 0.6666666666666666], 6.666666666666667], 'standard deviation': [[2.449489742783178, 2.449489742783178, 2.449489742783178], [0.816496580927726, 0.816496580927726, 0.816496580927726], 2.581988897471611], 'max': [[6, 7, 8], [2, 5, 8], 8], 'min': [[0, 1, 2], [0, 3, 6], 0], 'sum': [[9, 12, 15], [3, 12, 21], 36]}\n",
            "VALUE ERROR OK: ValueError - List must contain nine numbers.\n"
          ]
        }
      ]
    }
  ]
}