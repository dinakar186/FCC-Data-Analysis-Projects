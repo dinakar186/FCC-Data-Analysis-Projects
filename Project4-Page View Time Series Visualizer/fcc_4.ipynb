{
  "nbformat": 4,
  "nbformat_minor": 0,
  "metadata": {
    "colab": {
      "provenance": []
    },
    "kernelspec": {
      "name": "python3",
      "display_name": "Python 3"
    },
    "language_info": {
      "name": "python"
    }
  },
  "cells": [
    {
      "cell_type": "code",
      "source": [
        "import pandas as pd\n",
        "import matplotlib.pyplot as plt\n",
        "import seaborn as sns\n",
        "from google.colab import files\n",
        "\n",
        "# Upload CSV\n",
        "uploaded = files.upload()  # choose fcc-forum-pageviews.csv\n",
        "\n",
        "# Load dataset, parse dates, set index\n",
        "df = pd.read_csv(\"fcc-forum-pageviews.csv\", parse_dates=['date'], index_col='date')\n",
        "\n",
        "# Clean data: remove top & bottom 2.5%\n",
        "df = df[(df['value'] >= df['value'].quantile(0.025)) &\n",
        "        (df['value'] <= df['value'].quantile(0.975))]\n"
      ],
      "metadata": {
        "id": "LumzUtS7-63-"
      },
      "execution_count": null,
      "outputs": []
    },
    {
      "cell_type": "code",
      "source": [
        "def draw_line_plot(df):\n",
        "    fig, ax = plt.subplots(figsize=(15,5))\n",
        "    ax.plot(df.index, df['value'], color='red')\n",
        "    ax.set_title(\"Daily freeCodeCamp Forum Page Views 5/2016-12/2019\")\n",
        "    ax.set_xlabel(\"Date\")\n",
        "    ax.set_ylabel(\"Page Views\")\n",
        "    return fig\n",
        "\n",
        "draw_line_plot(df)\n",
        "plt.show()"
      ],
      "metadata": {
        "id": "XkF3IwQk-61c"
      },
      "execution_count": null,
      "outputs": []
    },
    {
      "cell_type": "code",
      "source": [
        "def draw_bar_plot(df):\n",
        "    df_bar = df.copy()\n",
        "    df_bar['year'] = df_bar.index.year\n",
        "    df_bar['month'] = df_bar.index.month\n",
        "\n",
        "    df_bar_grouped = df_bar.groupby(['year','month'])['value'].mean().unstack()\n",
        "\n",
        "    fig = df_bar_grouped.plot(kind='bar', figsize=(15,6)).figure\n",
        "    plt.xlabel(\"Years\")\n",
        "    plt.ylabel(\"Average Page Views\")\n",
        "    plt.legend(title=\"Months\", labels=['Jan','Feb','Mar','Apr','May','Jun','Jul','Aug','Sep','Oct','Nov','Dec'])\n",
        "    return fig\n",
        "\n",
        "draw_bar_plot(df)\n",
        "plt.show()"
      ],
      "metadata": {
        "id": "XwOn1P2j-6zT"
      },
      "execution_count": null,
      "outputs": []
    },
    {
      "cell_type": "code",
      "source": [
        "def draw_box_plot(df):\n",
        "    df_box = df.copy()\n",
        "    df_box.reset_index(inplace=True)\n",
        "    df_box['year'] = df_box['date'].dt.year\n",
        "    df_box['month'] = df_box['date'].dt.strftime('%b')\n",
        "    df_box['month_num'] = df_box['date'].dt.month\n",
        "    df_box = df_box.sort_values('month_num')\n",
        "\n",
        "    fig, axes = plt.subplots(1,2, figsize=(18,6))\n",
        "\n",
        "    # Year-wise Box Plot\n",
        "    sns.boxplot(x='year', y='value', data=df_box, ax=axes[0])\n",
        "    axes[0].set_title('Year-wise Box Plot (Trend)')\n",
        "    axes[0].set_xlabel('Year')\n",
        "    axes[0].set_ylabel('Page Views')\n",
        "\n",
        "    # Month-wise Box Plot\n",
        "    sns.boxplot(x='month', y='value', data=df_box, ax=axes[1])\n",
        "    axes[1].set_title('Month-wise Box Plot (Seasonality)')\n",
        "    axes[1].set_xlabel('Month')\n",
        "    axes[1].set_ylabel('Page Views')\n",
        "\n",
        "    return fig\n",
        "\n",
        "draw_box_plot(df)\n",
        "plt.show()"
      ],
      "metadata": {
        "id": "EYnYDvFs_Jwc"
      },
      "execution_count": null,
      "outputs": []
    }
  ]
}