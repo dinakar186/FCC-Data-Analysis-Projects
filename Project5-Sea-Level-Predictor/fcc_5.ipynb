{
  "nbformat": 4,
  "nbformat_minor": 0,
  "metadata": {
    "colab": {
      "provenance": []
    },
    "kernelspec": {
      "name": "python3",
      "display_name": "Python 3"
    },
    "language_info": {
      "name": "python"
    }
  },
  "cells": [
    {
      "cell_type": "code",
      "source": [
        "import pandas as pd\n",
        "import matplotlib.pyplot as plt\n",
        "from scipy.stats import linregress\n",
        "from google.colab import files\n",
        "\n",
        "# Upload CSV\n",
        "uploaded = files.upload()  # choose epa-sea-level.csv\n",
        "\n",
        "# Load dataset\n",
        "df = pd.read_csv(\"epa-sea-level.csv\")"
      ],
      "metadata": {
        "id": "B_JKGd5q_dk_"
      },
      "execution_count": null,
      "outputs": []
    },
    {
      "cell_type": "code",
      "source": [
        "plt.figure(figsize=(12,6))\n",
        "plt.scatter(df['Year'], df['CSIRO Adjusted Sea Level'], color='blue', label='Data points')\n",
        "plt.xlabel('Year')\n",
        "plt.ylabel('Sea Level (inches)')\n",
        "plt.title('Rise in Sea Level')"
      ],
      "metadata": {
        "id": "NoyB-IET_dit"
      },
      "execution_count": null,
      "outputs": []
    },
    {
      "cell_type": "code",
      "source": [
        "# Linear regression on all data\n",
        "slope, intercept, r_value, p_value, std_err = linregress(df['Year'], df['CSIRO Adjusted Sea Level'])\n",
        "\n",
        "# Predict y-values for all years up to 2050\n",
        "years_full = pd.Series(range(df['Year'].min(), 2051))\n",
        "line_full = intercept + slope * years_full\n",
        "\n",
        "plt.plot(years_full, line_full, color='red', label='Best fit (All Data)')"
      ],
      "metadata": {
        "id": "mQjk9T8A_dge"
      },
      "execution_count": null,
      "outputs": []
    },
    {
      "cell_type": "code",
      "source": [
        "df_recent = df[df['Year'] >= 2000]\n",
        "slope2, intercept2, _, _, _ = linregress(df_recent['Year'], df_recent['CSIRO Adjusted Sea Level'])\n",
        "\n",
        "years_recent = pd.Series(range(2000, 2051))\n",
        "line_recent = intercept2 + slope2 * years_recent\n",
        "\n",
        "plt.plot(years_recent, line_recent, color='green', label='Best fit (2000 onwards)')\n",
        "plt.legend()\n",
        "plt.show()"
      ],
      "metadata": {
        "id": "b1GSXPhr_deD"
      },
      "execution_count": null,
      "outputs": []
    },
    {
      "cell_type": "code",
      "source": [],
      "metadata": {
        "id": "JRyVp0N3_dYF"
      },
      "execution_count": null,
      "outputs": []
    }
  ]
}